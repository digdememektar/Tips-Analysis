{
 "cells": [
  {
   "cell_type": "markdown",
   "id": "027799a0-d823-4256-a51d-5b3eb84f7e5e",
   "metadata": {},
   "source": [
    "# Tips Dataset Keşfi ve Görselleştirme Pratiği"
   ]
  },
  {
   "cell_type": "code",
   "execution_count": 1,
   "id": "a3218b9b-e49b-481e-b94f-b027e01dd86d",
   "metadata": {},
   "outputs": [],
   "source": [
    "import seaborn as sns\n",
    "import pandas as pd\n",
    "import matplotlib.pyplot as plt"
   ]
  },
  {
   "cell_type": "code",
   "execution_count": 2,
   "id": "a79096c8-e20d-4908-89f0-f161cc068784",
   "metadata": {},
   "outputs": [],
   "source": [
    "df=sns.load_dataset(\"tips\")"
   ]
  },
  {
   "cell_type": "code",
   "execution_count": 3,
   "id": "388bf0e9-1dcd-4656-bcc0-b77ff845bb63",
   "metadata": {},
   "outputs": [
    {
     "data": {
      "text/html": [
       "<div>\n",
       "<style scoped>\n",
       "    .dataframe tbody tr th:only-of-type {\n",
       "        vertical-align: middle;\n",
       "    }\n",
       "\n",
       "    .dataframe tbody tr th {\n",
       "        vertical-align: top;\n",
       "    }\n",
       "\n",
       "    .dataframe thead th {\n",
       "        text-align: right;\n",
       "    }\n",
       "</style>\n",
       "<table border=\"1\" class=\"dataframe\">\n",
       "  <thead>\n",
       "    <tr style=\"text-align: right;\">\n",
       "      <th></th>\n",
       "      <th>total_bill</th>\n",
       "      <th>tip</th>\n",
       "      <th>sex</th>\n",
       "      <th>smoker</th>\n",
       "      <th>day</th>\n",
       "      <th>time</th>\n",
       "      <th>size</th>\n",
       "    </tr>\n",
       "  </thead>\n",
       "  <tbody>\n",
       "    <tr>\n",
       "      <th>0</th>\n",
       "      <td>16.99</td>\n",
       "      <td>1.01</td>\n",
       "      <td>Female</td>\n",
       "      <td>No</td>\n",
       "      <td>Sun</td>\n",
       "      <td>Dinner</td>\n",
       "      <td>2</td>\n",
       "    </tr>\n",
       "    <tr>\n",
       "      <th>1</th>\n",
       "      <td>10.34</td>\n",
       "      <td>1.66</td>\n",
       "      <td>Male</td>\n",
       "      <td>No</td>\n",
       "      <td>Sun</td>\n",
       "      <td>Dinner</td>\n",
       "      <td>3</td>\n",
       "    </tr>\n",
       "    <tr>\n",
       "      <th>2</th>\n",
       "      <td>21.01</td>\n",
       "      <td>3.50</td>\n",
       "      <td>Male</td>\n",
       "      <td>No</td>\n",
       "      <td>Sun</td>\n",
       "      <td>Dinner</td>\n",
       "      <td>3</td>\n",
       "    </tr>\n",
       "    <tr>\n",
       "      <th>3</th>\n",
       "      <td>23.68</td>\n",
       "      <td>3.31</td>\n",
       "      <td>Male</td>\n",
       "      <td>No</td>\n",
       "      <td>Sun</td>\n",
       "      <td>Dinner</td>\n",
       "      <td>2</td>\n",
       "    </tr>\n",
       "    <tr>\n",
       "      <th>4</th>\n",
       "      <td>24.59</td>\n",
       "      <td>3.61</td>\n",
       "      <td>Female</td>\n",
       "      <td>No</td>\n",
       "      <td>Sun</td>\n",
       "      <td>Dinner</td>\n",
       "      <td>4</td>\n",
       "    </tr>\n",
       "  </tbody>\n",
       "</table>\n",
       "</div>"
      ],
      "text/plain": [
       "   total_bill   tip     sex smoker  day    time  size\n",
       "0       16.99  1.01  Female     No  Sun  Dinner     2\n",
       "1       10.34  1.66    Male     No  Sun  Dinner     3\n",
       "2       21.01  3.50    Male     No  Sun  Dinner     3\n",
       "3       23.68  3.31    Male     No  Sun  Dinner     2\n",
       "4       24.59  3.61  Female     No  Sun  Dinner     4"
      ]
     },
     "execution_count": 3,
     "metadata": {},
     "output_type": "execute_result"
    }
   ],
   "source": [
    "df.head(5)"
   ]
  },
  {
   "cell_type": "code",
   "execution_count": 4,
   "id": "daafbfdd-b480-4102-863a-805c43f1d67c",
   "metadata": {},
   "outputs": [
    {
     "data": {
      "text/plain": [
       "(244, 7)"
      ]
     },
     "execution_count": 4,
     "metadata": {},
     "output_type": "execute_result"
    }
   ],
   "source": [
    "df.shape\n"
   ]
  },
  {
   "cell_type": "code",
   "execution_count": 5,
   "id": "7b0785c7-5c3d-4eaa-a920-4bb59ea5ab7c",
   "metadata": {},
   "outputs": [
    {
     "name": "stdout",
     "output_type": "stream",
     "text": [
      "<class 'pandas.core.frame.DataFrame'>\n",
      "RangeIndex: 244 entries, 0 to 243\n",
      "Data columns (total 7 columns):\n",
      " #   Column      Non-Null Count  Dtype   \n",
      "---  ------      --------------  -----   \n",
      " 0   total_bill  244 non-null    float64 \n",
      " 1   tip         244 non-null    float64 \n",
      " 2   sex         244 non-null    category\n",
      " 3   smoker      244 non-null    category\n",
      " 4   day         244 non-null    category\n",
      " 5   time        244 non-null    category\n",
      " 6   size        244 non-null    int64   \n",
      "dtypes: category(4), float64(2), int64(1)\n",
      "memory usage: 7.4 KB\n"
     ]
    }
   ],
   "source": [
    "df.info()"
   ]
  },
  {
   "cell_type": "code",
   "execution_count": null,
   "id": "ec1e1d29-cadf-495a-af12-bddf2cd5da97",
   "metadata": {},
   "outputs": [],
   "source": []
  },
  {
   "cell_type": "markdown",
   "id": "3cdefacb-a14e-494a-a352-77097d518144",
   "metadata": {},
   "source": [
    "#### Sayısal Değişkenlerin İncelenmesi\n"
   ]
  },
  {
   "cell_type": "code",
   "execution_count": 6,
   "id": "0dd5ff81-9ff0-4626-bb2a-06b17caf4208",
   "metadata": {},
   "outputs": [
    {
     "data": {
      "text/html": [
       "<div>\n",
       "<style scoped>\n",
       "    .dataframe tbody tr th:only-of-type {\n",
       "        vertical-align: middle;\n",
       "    }\n",
       "\n",
       "    .dataframe tbody tr th {\n",
       "        vertical-align: top;\n",
       "    }\n",
       "\n",
       "    .dataframe thead th {\n",
       "        text-align: right;\n",
       "    }\n",
       "</style>\n",
       "<table border=\"1\" class=\"dataframe\">\n",
       "  <thead>\n",
       "    <tr style=\"text-align: right;\">\n",
       "      <th></th>\n",
       "      <th>total_bill</th>\n",
       "      <th>tip</th>\n",
       "      <th>size</th>\n",
       "    </tr>\n",
       "  </thead>\n",
       "  <tbody>\n",
       "    <tr>\n",
       "      <th>count</th>\n",
       "      <td>244.000000</td>\n",
       "      <td>244.000000</td>\n",
       "      <td>244.000000</td>\n",
       "    </tr>\n",
       "    <tr>\n",
       "      <th>mean</th>\n",
       "      <td>19.785943</td>\n",
       "      <td>2.998279</td>\n",
       "      <td>2.569672</td>\n",
       "    </tr>\n",
       "    <tr>\n",
       "      <th>std</th>\n",
       "      <td>8.902412</td>\n",
       "      <td>1.383638</td>\n",
       "      <td>0.951100</td>\n",
       "    </tr>\n",
       "    <tr>\n",
       "      <th>min</th>\n",
       "      <td>3.070000</td>\n",
       "      <td>1.000000</td>\n",
       "      <td>1.000000</td>\n",
       "    </tr>\n",
       "    <tr>\n",
       "      <th>25%</th>\n",
       "      <td>13.347500</td>\n",
       "      <td>2.000000</td>\n",
       "      <td>2.000000</td>\n",
       "    </tr>\n",
       "    <tr>\n",
       "      <th>50%</th>\n",
       "      <td>17.795000</td>\n",
       "      <td>2.900000</td>\n",
       "      <td>2.000000</td>\n",
       "    </tr>\n",
       "    <tr>\n",
       "      <th>75%</th>\n",
       "      <td>24.127500</td>\n",
       "      <td>3.562500</td>\n",
       "      <td>3.000000</td>\n",
       "    </tr>\n",
       "    <tr>\n",
       "      <th>max</th>\n",
       "      <td>50.810000</td>\n",
       "      <td>10.000000</td>\n",
       "      <td>6.000000</td>\n",
       "    </tr>\n",
       "  </tbody>\n",
       "</table>\n",
       "</div>"
      ],
      "text/plain": [
       "       total_bill         tip        size\n",
       "count  244.000000  244.000000  244.000000\n",
       "mean    19.785943    2.998279    2.569672\n",
       "std      8.902412    1.383638    0.951100\n",
       "min      3.070000    1.000000    1.000000\n",
       "25%     13.347500    2.000000    2.000000\n",
       "50%     17.795000    2.900000    2.000000\n",
       "75%     24.127500    3.562500    3.000000\n",
       "max     50.810000   10.000000    6.000000"
      ]
     },
     "execution_count": 6,
     "metadata": {},
     "output_type": "execute_result"
    }
   ],
   "source": [
    "df.describe()"
   ]
  },
  {
   "cell_type": "markdown",
   "id": "bf2449ad-028e-4ffa-9fc9-af4c2d152b6e",
   "metadata": {},
   "source": [
    "📝 **Notlarım:**\n",
    "\n",
    "- **total_bill**: Ortalama hesap 20 dolar, çoğu müşteri 25 doların altında ödeme yapmış.  \n",
    "- **tip**: Ortalama bahşiş 3 dolar, genellikle 2–4 dolar aralığında. Minimum 1 dolar, maksimum 10 dolar.  \n",
    "- **size**: Ortalama grup büyüklüğü 2.6 kişi. Çoğunlukla 2–3 kişilik gruplar halinde gelinmiş.  \n"
   ]
  },
  {
   "cell_type": "code",
   "execution_count": null,
   "id": "b43fd6d5-2899-42fb-8147-142016448dc1",
   "metadata": {},
   "outputs": [],
   "source": []
  },
  {
   "cell_type": "markdown",
   "id": "063e0b16-a839-4911-a5a1-bdeff6a2ac26",
   "metadata": {},
   "source": [
    "#### Kategorik Değişkenlerin Dağılımı\n"
   ]
  },
  {
   "cell_type": "code",
   "execution_count": 7,
   "id": "6488da63-6054-4171-b931-e63a4fb49037",
   "metadata": {},
   "outputs": [
    {
     "data": {
      "text/plain": [
       "sex\n",
       "Male      157\n",
       "Female     87\n",
       "Name: count, dtype: int64"
      ]
     },
     "execution_count": 7,
     "metadata": {},
     "output_type": "execute_result"
    }
   ],
   "source": [
    "df[\"sex\"].value_counts()"
   ]
  },
  {
   "cell_type": "code",
   "execution_count": 8,
   "id": "8604c3ab-8256-44b5-af66-22db75bfec5e",
   "metadata": {},
   "outputs": [
    {
     "data": {
      "text/plain": [
       "smoker\n",
       "No     151\n",
       "Yes     93\n",
       "Name: count, dtype: int64"
      ]
     },
     "execution_count": 8,
     "metadata": {},
     "output_type": "execute_result"
    }
   ],
   "source": [
    "df[\"smoker\"].value_counts()"
   ]
  },
  {
   "cell_type": "code",
   "execution_count": 9,
   "id": "38405482-a72d-4863-b9f5-2036bc950424",
   "metadata": {},
   "outputs": [
    {
     "data": {
      "text/plain": [
       "day\n",
       "Sat     87\n",
       "Sun     76\n",
       "Thur    62\n",
       "Fri     19\n",
       "Name: count, dtype: int64"
      ]
     },
     "execution_count": 9,
     "metadata": {},
     "output_type": "execute_result"
    }
   ],
   "source": [
    "df[\"day\"].value_counts()"
   ]
  },
  {
   "cell_type": "code",
   "execution_count": 10,
   "id": "33915eac-a5fd-4b41-bc91-b688c8ecffb7",
   "metadata": {},
   "outputs": [
    {
     "data": {
      "text/plain": [
       "time\n",
       "Dinner    176\n",
       "Lunch      68\n",
       "Name: count, dtype: int64"
      ]
     },
     "execution_count": 10,
     "metadata": {},
     "output_type": "execute_result"
    }
   ],
   "source": [
    "df[\"time\"].value_counts()"
   ]
  },
  {
   "cell_type": "markdown",
   "id": "158c1835-1351-4000-be90-f99fa6600aa5",
   "metadata": {},
   "source": [
    "📝 **Notlarım:**\n",
    "\n",
    "- **Cinsiyet (sex):** Erkek müşteri sayısı (157), kadınlardan (87) daha fazla.  \n",
    "- **Sigara (smoker):** Çoğunluk sigara içmiyor (151). Sigara içenler de hatırı sayılır bir oran (%38).  \n",
    "- **Gün (day):** En yoğun gün Cumartesi (87 müşteri), en az müşteri Cuma günü (19). Hafta sonları restoran daha kalabalık.  \n",
    "- **Zaman (time):** Çoğu müşteri akşam yemeğinde geliyor (176 kişi), öğlen yemeği daha az tercih edilmiş (68).  \n"
   ]
  },
  {
   "cell_type": "code",
   "execution_count": null,
   "id": "2fb8c4b7-3d05-4cd2-a251-54fcce810ca8",
   "metadata": {},
   "outputs": [],
   "source": []
  },
  {
   "cell_type": "markdown",
   "id": "726bed95-aab6-4bc8-97de-a82748977fb2",
   "metadata": {},
   "source": [
    "#### Eksik Değer Kontrolü\n"
   ]
  },
  {
   "cell_type": "code",
   "execution_count": 11,
   "id": "564e4ff1-17be-4bcd-bb66-d8e3408c4bc4",
   "metadata": {
    "scrolled": true
   },
   "outputs": [
    {
     "data": {
      "text/plain": [
       "total_bill    0\n",
       "tip           0\n",
       "sex           0\n",
       "smoker        0\n",
       "day           0\n",
       "time          0\n",
       "size          0\n",
       "dtype: int64"
      ]
     },
     "execution_count": 11,
     "metadata": {},
     "output_type": "execute_result"
    }
   ],
   "source": [
    "df.isnull().sum()"
   ]
  },
  {
   "cell_type": "code",
   "execution_count": null,
   "id": "2f8f170a-52f8-45eb-a917-cb6ff7fee937",
   "metadata": {},
   "outputs": [],
   "source": []
  },
  {
   "cell_type": "markdown",
   "id": "a8522975-16e0-4f9f-9779-62b05f702395",
   "metadata": {},
   "source": [
    "#### Değişkenlerin Tiplerine Göre İncelenmesi\n"
   ]
  },
  {
   "cell_type": "code",
   "execution_count": 12,
   "id": "68fcb6c4-ff89-4f5f-8b75-14d4cf28598b",
   "metadata": {},
   "outputs": [
    {
     "data": {
      "text/plain": [
       "total_bill     float64\n",
       "tip            float64\n",
       "sex           category\n",
       "smoker        category\n",
       "day           category\n",
       "time          category\n",
       "size             int64\n",
       "dtype: object"
      ]
     },
     "execution_count": 12,
     "metadata": {},
     "output_type": "execute_result"
    }
   ],
   "source": [
    "df.dtypes"
   ]
  },
  {
   "cell_type": "code",
   "execution_count": 13,
   "id": "51c138e2-d649-47a6-b1b4-5f58f283f92d",
   "metadata": {},
   "outputs": [
    {
     "name": "stdout",
     "output_type": "stream",
     "text": [
      "Sayısal Değişkenler: ['total_bill', 'tip', 'size']\n"
     ]
    }
   ],
   "source": [
    "num_cols=df.select_dtypes(include=[\"float64\",\"int64\"]).columns\n",
    "print(\"Sayısal Değişkenler:\", list(num_cols))\n",
    "\n"
   ]
  },
  {
   "cell_type": "code",
   "execution_count": 14,
   "id": "4e582f67-5408-460b-8a31-46443614fef9",
   "metadata": {},
   "outputs": [
    {
     "name": "stdout",
     "output_type": "stream",
     "text": [
      "Kategorik Değişkenler: ['sex', 'smoker', 'day', 'time']\n"
     ]
    }
   ],
   "source": [
    "cat_cols=df.select_dtypes(include=[\"category\"]).columns\n",
    "print(\"Kategorik Değişkenler:\",list(cat_cols))"
   ]
  },
  {
   "cell_type": "code",
   "execution_count": null,
   "id": "cc0fd49d-8116-46f4-8a4d-75e0635c3c6e",
   "metadata": {},
   "outputs": [],
   "source": []
  },
  {
   "cell_type": "markdown",
   "id": "68495535-8d04-4b0d-be7f-ac5cd7378d86",
   "metadata": {},
   "source": [
    "#### Sayısal Değişkenler Üzerine Hesaplamalar\n"
   ]
  },
  {
   "cell_type": "code",
   "execution_count": 15,
   "id": "84a80197-597d-4fff-8860-a60e68c2ebac",
   "metadata": {},
   "outputs": [
    {
     "data": {
      "text/html": [
       "<div>\n",
       "<style scoped>\n",
       "    .dataframe tbody tr th:only-of-type {\n",
       "        vertical-align: middle;\n",
       "    }\n",
       "\n",
       "    .dataframe tbody tr th {\n",
       "        vertical-align: top;\n",
       "    }\n",
       "\n",
       "    .dataframe thead th {\n",
       "        text-align: right;\n",
       "    }\n",
       "</style>\n",
       "<table border=\"1\" class=\"dataframe\">\n",
       "  <thead>\n",
       "    <tr style=\"text-align: right;\">\n",
       "      <th></th>\n",
       "      <th>total_bill</th>\n",
       "      <th>tip</th>\n",
       "      <th>size</th>\n",
       "    </tr>\n",
       "  </thead>\n",
       "  <tbody>\n",
       "    <tr>\n",
       "      <th>mean</th>\n",
       "      <td>19.785943</td>\n",
       "      <td>2.998279</td>\n",
       "      <td>2.569672</td>\n",
       "    </tr>\n",
       "    <tr>\n",
       "      <th>median</th>\n",
       "      <td>17.795000</td>\n",
       "      <td>2.900000</td>\n",
       "      <td>2.000000</td>\n",
       "    </tr>\n",
       "    <tr>\n",
       "      <th>std</th>\n",
       "      <td>8.902412</td>\n",
       "      <td>1.383638</td>\n",
       "      <td>0.951100</td>\n",
       "    </tr>\n",
       "    <tr>\n",
       "      <th>min</th>\n",
       "      <td>3.070000</td>\n",
       "      <td>1.000000</td>\n",
       "      <td>1.000000</td>\n",
       "    </tr>\n",
       "    <tr>\n",
       "      <th>max</th>\n",
       "      <td>50.810000</td>\n",
       "      <td>10.000000</td>\n",
       "      <td>6.000000</td>\n",
       "    </tr>\n",
       "  </tbody>\n",
       "</table>\n",
       "</div>"
      ],
      "text/plain": [
       "        total_bill        tip      size\n",
       "mean     19.785943   2.998279  2.569672\n",
       "median   17.795000   2.900000  2.000000\n",
       "std       8.902412   1.383638  0.951100\n",
       "min       3.070000   1.000000  1.000000\n",
       "max      50.810000  10.000000  6.000000"
      ]
     },
     "execution_count": 15,
     "metadata": {},
     "output_type": "execute_result"
    }
   ],
   "source": [
    "num_summary=df[num_cols].agg([\"mean\",\"median\",\"std\",\"min\",\"max\"])\n",
    "num_summary"
   ]
  },
  {
   "cell_type": "code",
   "execution_count": 16,
   "id": "c5b72d43-d6d1-4bf6-9d31-ca9415e7ce09",
   "metadata": {},
   "outputs": [
    {
     "data": {
      "text/html": [
       "<div>\n",
       "<style scoped>\n",
       "    .dataframe tbody tr th:only-of-type {\n",
       "        vertical-align: middle;\n",
       "    }\n",
       "\n",
       "    .dataframe tbody tr th {\n",
       "        vertical-align: top;\n",
       "    }\n",
       "\n",
       "    .dataframe thead th {\n",
       "        text-align: right;\n",
       "    }\n",
       "</style>\n",
       "<table border=\"1\" class=\"dataframe\">\n",
       "  <thead>\n",
       "    <tr style=\"text-align: right;\">\n",
       "      <th></th>\n",
       "      <th>total_bill</th>\n",
       "      <th>tip</th>\n",
       "      <th>size</th>\n",
       "    </tr>\n",
       "  </thead>\n",
       "  <tbody>\n",
       "    <tr>\n",
       "      <th>total_bill</th>\n",
       "      <td>1.000000</td>\n",
       "      <td>0.675734</td>\n",
       "      <td>0.598315</td>\n",
       "    </tr>\n",
       "    <tr>\n",
       "      <th>tip</th>\n",
       "      <td>0.675734</td>\n",
       "      <td>1.000000</td>\n",
       "      <td>0.489299</td>\n",
       "    </tr>\n",
       "    <tr>\n",
       "      <th>size</th>\n",
       "      <td>0.598315</td>\n",
       "      <td>0.489299</td>\n",
       "      <td>1.000000</td>\n",
       "    </tr>\n",
       "  </tbody>\n",
       "</table>\n",
       "</div>"
      ],
      "text/plain": [
       "            total_bill       tip      size\n",
       "total_bill    1.000000  0.675734  0.598315\n",
       "tip           0.675734  1.000000  0.489299\n",
       "size          0.598315  0.489299  1.000000"
      ]
     },
     "execution_count": 16,
     "metadata": {},
     "output_type": "execute_result"
    }
   ],
   "source": [
    "num_corr=df[num_cols].corr()\n",
    "num_corr"
   ]
  },
  {
   "cell_type": "markdown",
   "id": "e10abd4d-d538-4a90-82d7-8e3bc6b39584",
   "metadata": {},
   "source": [
    "📝 **Notlarım:**\n",
    "\n",
    "- **total_bill:** Aşırı uç değerler olsa da dağılım dengeli.  \n",
    "- **tip:** Bahşiş dağılımı dengeli.  \n",
    "- **size:** Ortalama grup büyüklüğü 2.6 kişi, ortanca 2 → çoğunlukla küçük gruplar halinde gelinmiş.  \n",
    "\n",
    "📊 **Korelasyonlar:**\n",
    "- Hesap ile bahşiş arasında güçlü pozitif ilişki var (0.67). Hesap yükseldikçe bahşiş de artıyor.  \n",
    "- Hesap ile grup büyüklüğü arasında orta düzey ilişki var (0.60). Grup büyüdükçe hesap artıyor.  \n",
    "- Grup büyüklüğü ile bahşiş arasında daha zayıf ama pozitif bir ilişki var (0.49). Büyük gruplar daha fazla bahşiş bırakıyor, fakat artış hesap kadar güçlü değil.  \n"
   ]
  },
  {
   "cell_type": "code",
   "execution_count": null,
   "id": "1deffa5a-ac68-4a0f-8d70-a0e1f90d2d2a",
   "metadata": {},
   "outputs": [],
   "source": []
  },
  {
   "cell_type": "markdown",
   "id": "b5432c58-b135-4471-95a6-6b9942257a7b",
   "metadata": {},
   "source": [
    "#### Kategorik ve Sayısal Değişkenlerin İlişkisi\n"
   ]
  },
  {
   "cell_type": "code",
   "execution_count": 22,
   "id": "db94429b-3874-4f4d-9bb1-3d472348a2fe",
   "metadata": {},
   "outputs": [
    {
     "data": {
      "text/plain": [
       "sex\n",
       "Male      3.089618\n",
       "Female    2.833448\n",
       "Name: tip, dtype: float64"
      ]
     },
     "execution_count": 22,
     "metadata": {},
     "output_type": "execute_result"
    }
   ],
   "source": [
    "df.groupby(\"sex\",observed=True)[\"tip\"].mean()"
   ]
  },
  {
   "cell_type": "code",
   "execution_count": 23,
   "id": "f31f02c9-0dfc-4b7a-aa88-59adeca6fda0",
   "metadata": {},
   "outputs": [
    {
     "data": {
      "text/plain": [
       "day\n",
       "Thur    1096.33\n",
       "Fri      325.88\n",
       "Sat     1778.40\n",
       "Sun     1627.16\n",
       "Name: total_bill, dtype: float64"
      ]
     },
     "execution_count": 23,
     "metadata": {},
     "output_type": "execute_result"
    }
   ],
   "source": [
    "df.groupby(\"day\",observed=True)[\"total_bill\"].sum()"
   ]
  },
  {
   "cell_type": "code",
   "execution_count": 24,
   "id": "a2c1a747-8a32-496a-a9d2-e296782de212",
   "metadata": {},
   "outputs": [
    {
     "data": {
      "text/plain": [
       "time\n",
       "Lunch     17.168676\n",
       "Dinner    20.797159\n",
       "Name: total_bill, dtype: float64"
      ]
     },
     "execution_count": 24,
     "metadata": {},
     "output_type": "execute_result"
    }
   ],
   "source": [
    "df.groupby(\"time\",observed=True)[\"total_bill\"].mean()"
   ]
  },
  {
   "cell_type": "markdown",
   "id": "b06aa956-b25a-43d1-ac52-7ba7230e33ec",
   "metadata": {},
   "source": [
    "📝 **Notlarım:**\n",
    "\n",
    "- **Cinsiyet (sex):**  Erkeklerin ortalama bahşişi kadınlardan biraz daha yüksek.  \n",
    "- **Gün (day):**  Restoran hafta sonu çok daha yoğun.  \n",
    "- **Zaman (time):**  Akşam gelenler daha fazla harcama yapıyor.  \n"
   ]
  },
  {
   "cell_type": "code",
   "execution_count": null,
   "id": "7146f260-7563-4d95-a274-8cc26bb6f215",
   "metadata": {},
   "outputs": [],
   "source": []
  },
  {
   "cell_type": "markdown",
   "id": "4c172060-ec3e-4f65-95bd-31542f1adab1",
   "metadata": {},
   "source": [
    "#### Kategorik ve Sayısal İlişkilerin Görselleştirilmesi\n"
   ]
  },
  {
   "cell_type": "code",
   "execution_count": 26,
   "id": "077721b3-030c-4e4e-a030-c2cb4b33c8ef",
   "metadata": {},
   "outputs": [],
   "source": [
    "sex_tip=df.groupby(\"sex\",observed=True)[\"tip\"].mean()"
   ]
  },
  {
   "cell_type": "code",
   "execution_count": 28,
   "id": "a2c05c0f-bad0-475e-b276-ef427e8c6a91",
   "metadata": {},
   "outputs": [
    {
     "data": {
      "image/png": "[encoded data removed]",
      "text/plain": [
       "<Figure size 640x480 with 1 Axes>"
      ]
     },
     "metadata": {},
     "output_type": "display_data"
    }
   ],
   "source": [
    "sex_tip.plot(kind=\"bar\",title=\"Cinsiyete Göre Ortalama Bahşiş\", ylabel=\"Ortalama Bahşiş\",xlabel=\"Cinsiyet\")\n",
    "plt.show()"
   ]
  },
  {
   "cell_type": "code",
   "execution_count": null,
   "id": "4bf36427-a550-49c8-b015-3f78118b7b00",
   "metadata": {},
   "outputs": [],
   "source": []
  },
  {
   "cell_type": "code",
   "execution_count": 29,
   "id": "6043f566-e7bd-4c33-b174-a8ef7a95dedc",
   "metadata": {},
   "outputs": [],
   "source": [
    "day_totalbill=df.groupby(\"day\",observed=True)[\"total_bill\"].sum()"
   ]
  },
  {
   "cell_type": "code",
   "execution_count": 35,
   "id": "87668711-30ea-49cd-9c96-515941703450",
   "metadata": {},
   "outputs": [
    {
     "data": {
      "image/png": "[encoded data removed]",
      "text/plain": [
       "<Figure size 640x480 with 1 Axes>"
      ]
     },
     "metadata": {},
     "output_type": "display_data"
    }
   ],
   "source": [
    "day_totalbill.plot(kind=\"line\",title=\"Günlere Göre Toplam Kazanç\",ylabel=\"Toplam Hesap\",xlabel=\"Gün\")\n",
    "plt.show()"
   ]
  },
  {
   "cell_type": "code",
   "execution_count": null,
   "id": "195ebcea-da8a-4e1f-8c1d-9c8a82bd7d63",
   "metadata": {},
   "outputs": [],
   "source": []
  },
  {
   "cell_type": "code",
   "execution_count": 31,
   "id": "08e36cc0-05b5-4818-b482-9bf64cc12f6b",
   "metadata": {},
   "outputs": [],
   "source": [
    "time_totalbill=df.groupby(\"time\",observed=True)[\"total_bill\"].mean()"
   ]
  },
  {
   "cell_type": "code",
   "execution_count": 36,
   "id": "272e3cc1-7208-4bd1-ae5f-d4ec34d58e34",
   "metadata": {},
   "outputs": [
    {
     "data": {
      "image/png": "[encoded data removed]",
      "text/plain": [
       "<Figure size 640x480 with 1 Axes>"
      ]
     },
     "metadata": {},
     "output_type": "display_data"
    }
   ],
   "source": [
    "time_totalbill.plot(kind=\"bar\",title=\"Zamana Göre Ortalama Kazanç\",ylabel=\"Ortalama Kazanç\", xlabel=\"Zaman\")\n",
    "plt.show()"
   ]
  },
  {
   "cell_type": "code",
   "execution_count": null,
   "id": "5487695d-385a-4f85-b478-39f1248d613b",
   "metadata": {},
   "outputs": [],
   "source": []
  },
  {
   "cell_type": "code",
   "execution_count": 57,
   "id": "73e91dda-fc1d-4068-9a5b-4c748165d75e",
   "metadata": {},
   "outputs": [
    {
     "data": {
      "image/png": "[encoded data removed]",
      "text/plain": [
       "<Figure size 640x480 with 1 Axes>"
      ]
     },
     "metadata": {},
     "output_type": "display_data"
    }
   ],
   "source": [
    "df[\"smoker\"].value_counts().plot(kind=\"pie\", title=\"Sigara İçen vs İçmeyen\")\n",
    "plt.ylabel(\"\")\n",
    "plt.show()"
   ]
  },
  {
   "cell_type": "code",
   "execution_count": null,
   "id": "6f851cb2-a7c1-45d6-aadf-fb9ae6f3a045",
   "metadata": {},
   "outputs": [],
   "source": []
  },
  {
   "cell_type": "code",
   "execution_count": 61,
   "id": "364127e0-317d-47a3-9c10-8da3ccdf099d",
   "metadata": {},
   "outputs": [
    {
     "data": {
      "image/png": "[encoded data removed]",
      "text/plain": [
       "<Figure size 640x480 with 1 Axes>"
      ]
     },
     "metadata": {},
     "output_type": "display_data"
    }
   ],
   "source": [
    "df.plot(kind=\"scatter\",x=\"total_bill\", y=\"tip\",title=\"Toplam Hesap vs Bahşiş\", xlabel=\"Toplam Hesap\",ylabel=\"Bahşiş\")\n",
    "plt.show()"
   ]
  },
  {
   "cell_type": "markdown",
   "id": "cf9d93c6-5f14-48f8-b1a0-191e268e64de",
   "metadata": {},
   "source": [
    "#### Yeni Değişkenler Oluşturma\n"
   ]
  },
  {
   "cell_type": "code",
   "execution_count": 38,
   "id": "88545dbe-e976-4c4d-a1c5-0ba150932078",
   "metadata": {},
   "outputs": [
    {
     "data": {
      "text/plain": [
       "0       5.944673\n",
       "1      16.054159\n",
       "2      16.658734\n",
       "3      13.978041\n",
       "4      14.680765\n",
       "         ...    \n",
       "239    20.392697\n",
       "240     7.358352\n",
       "241     8.822232\n",
       "242     9.820426\n",
       "243    15.974441\n",
       "Name: Bahşiş Yüzdesi, Length: 244, dtype: float64"
      ]
     },
     "execution_count": 38,
     "metadata": {},
     "output_type": "execute_result"
    }
   ],
   "source": [
    "df[\"Bahşiş Yüzdesi\"]=df[\"tip\"]/df[\"total_bill\"]*100\n",
    "df[\"Bahşiş Yüzdesi\"]"
   ]
  },
  {
   "cell_type": "code",
   "execution_count": 39,
   "id": "f2439a68-d534-4098-8a56-0c40659ca047",
   "metadata": {},
   "outputs": [
    {
     "data": {
      "text/html": [
       "<div>\n",
       "<style scoped>\n",
       "    .dataframe tbody tr th:only-of-type {\n",
       "        vertical-align: middle;\n",
       "    }\n",
       "\n",
       "    .dataframe tbody tr th {\n",
       "        vertical-align: top;\n",
       "    }\n",
       "\n",
       "    .dataframe thead th {\n",
       "        text-align: right;\n",
       "    }\n",
       "</style>\n",
       "<table border=\"1\" class=\"dataframe\">\n",
       "  <thead>\n",
       "    <tr style=\"text-align: right;\">\n",
       "      <th></th>\n",
       "      <th>total_bill</th>\n",
       "      <th>tip</th>\n",
       "      <th>Bahşiş Yüzdesi</th>\n",
       "    </tr>\n",
       "  </thead>\n",
       "  <tbody>\n",
       "    <tr>\n",
       "      <th>0</th>\n",
       "      <td>16.99</td>\n",
       "      <td>1.01</td>\n",
       "      <td>5.944673</td>\n",
       "    </tr>\n",
       "    <tr>\n",
       "      <th>1</th>\n",
       "      <td>10.34</td>\n",
       "      <td>1.66</td>\n",
       "      <td>16.054159</td>\n",
       "    </tr>\n",
       "    <tr>\n",
       "      <th>2</th>\n",
       "      <td>21.01</td>\n",
       "      <td>3.50</td>\n",
       "      <td>16.658734</td>\n",
       "    </tr>\n",
       "    <tr>\n",
       "      <th>3</th>\n",
       "      <td>23.68</td>\n",
       "      <td>3.31</td>\n",
       "      <td>13.978041</td>\n",
       "    </tr>\n",
       "    <tr>\n",
       "      <th>4</th>\n",
       "      <td>24.59</td>\n",
       "      <td>3.61</td>\n",
       "      <td>14.680765</td>\n",
       "    </tr>\n",
       "  </tbody>\n",
       "</table>\n",
       "</div>"
      ],
      "text/plain": [
       "   total_bill   tip  Bahşiş Yüzdesi\n",
       "0       16.99  1.01        5.944673\n",
       "1       10.34  1.66       16.054159\n",
       "2       21.01  3.50       16.658734\n",
       "3       23.68  3.31       13.978041\n",
       "4       24.59  3.61       14.680765"
      ]
     },
     "execution_count": 39,
     "metadata": {},
     "output_type": "execute_result"
    }
   ],
   "source": [
    "df[[\"total_bill\",\"tip\",\"Bahşiş Yüzdesi\"]].head()"
   ]
  },
  {
   "cell_type": "code",
   "execution_count": 44,
   "id": "1e4f206d-2850-4891-9672-5c887b74c462",
   "metadata": {},
   "outputs": [
    {
     "data": {
      "text/plain": [
       "0     8.495000\n",
       "1     3.446667\n",
       "2     7.003333\n",
       "3    11.840000\n",
       "4     6.147500\n",
       "Name: Kişi Başı Hesap, dtype: float64"
      ]
     },
     "execution_count": 44,
     "metadata": {},
     "output_type": "execute_result"
    }
   ],
   "source": [
    "df[\"Kişi Başı Hesap\"]=df[\"total_bill\"]/df[\"size\"]\n",
    "df[\"Kişi Başı Hesap\"].head()\n"
   ]
  },
  {
   "cell_type": "code",
   "execution_count": 45,
   "id": "d3fa66a2-68c6-4ee9-9b0f-e8313e78918c",
   "metadata": {},
   "outputs": [
    {
     "data": {
      "text/html": [
       "<div>\n",
       "<style scoped>\n",
       "    .dataframe tbody tr th:only-of-type {\n",
       "        vertical-align: middle;\n",
       "    }\n",
       "\n",
       "    .dataframe tbody tr th {\n",
       "        vertical-align: top;\n",
       "    }\n",
       "\n",
       "    .dataframe thead th {\n",
       "        text-align: right;\n",
       "    }\n",
       "</style>\n",
       "<table border=\"1\" class=\"dataframe\">\n",
       "  <thead>\n",
       "    <tr style=\"text-align: right;\">\n",
       "      <th></th>\n",
       "      <th>total_bill</th>\n",
       "      <th>tip</th>\n",
       "      <th>Kişi Başı Hesap</th>\n",
       "    </tr>\n",
       "  </thead>\n",
       "  <tbody>\n",
       "    <tr>\n",
       "      <th>0</th>\n",
       "      <td>16.99</td>\n",
       "      <td>1.01</td>\n",
       "      <td>8.495000</td>\n",
       "    </tr>\n",
       "    <tr>\n",
       "      <th>1</th>\n",
       "      <td>10.34</td>\n",
       "      <td>1.66</td>\n",
       "      <td>3.446667</td>\n",
       "    </tr>\n",
       "    <tr>\n",
       "      <th>2</th>\n",
       "      <td>21.01</td>\n",
       "      <td>3.50</td>\n",
       "      <td>7.003333</td>\n",
       "    </tr>\n",
       "    <tr>\n",
       "      <th>3</th>\n",
       "      <td>23.68</td>\n",
       "      <td>3.31</td>\n",
       "      <td>11.840000</td>\n",
       "    </tr>\n",
       "    <tr>\n",
       "      <th>4</th>\n",
       "      <td>24.59</td>\n",
       "      <td>3.61</td>\n",
       "      <td>6.147500</td>\n",
       "    </tr>\n",
       "  </tbody>\n",
       "</table>\n",
       "</div>"
      ],
      "text/plain": [
       "   total_bill   tip  Kişi Başı Hesap\n",
       "0       16.99  1.01         8.495000\n",
       "1       10.34  1.66         3.446667\n",
       "2       21.01  3.50         7.003333\n",
       "3       23.68  3.31        11.840000\n",
       "4       24.59  3.61         6.147500"
      ]
     },
     "execution_count": 45,
     "metadata": {},
     "output_type": "execute_result"
    }
   ],
   "source": [
    "df[[\"total_bill\",\"tip\",\"Kişi Başı Hesap\"]].head()"
   ]
  },
  {
   "cell_type": "code",
   "execution_count": null,
   "id": "55b20065-0ed1-4a26-83e9-66515e89ce9c",
   "metadata": {},
   "outputs": [],
   "source": []
  },
  {
   "cell_type": "markdown",
   "id": "61ea2705-2ee1-41e2-b403-de6ac1f14679",
   "metadata": {},
   "source": [
    "#### Yeni Değişkenlerin Görselleştirilmesi\n"
   ]
  },
  {
   "cell_type": "code",
   "execution_count": 48,
   "id": "1b22b5b8-cd53-4b4e-9fba-4f441a61123d",
   "metadata": {},
   "outputs": [
    {
     "data": {
      "image/png": "[encoded data removed]",
      "text/plain": [
       "<Figure size 640x480 with 1 Axes>"
      ]
     },
     "metadata": {},
     "output_type": "display_data"
    }
   ],
   "source": [
    "df.groupby(\"sex\",observed=True)[\"Bahşiş Yüzdesi\"].mean().plot(kind=\"bar\", title=\"Cinsiyete Göre Ortalama Bahşiş Yüzdesi\", ylabel=\"Bahşiş Yüzdesi\",xlabel=\"Cinsiyet\")\n",
    "plt.show()\n"
   ]
  },
  {
   "cell_type": "code",
   "execution_count": null,
   "id": "e2535bb8-8331-42e5-9826-50371fbc02fb",
   "metadata": {},
   "outputs": [],
   "source": []
  },
  {
   "cell_type": "code",
   "execution_count": 51,
   "id": "618da5cf-244a-4e61-8686-74d83a8bcc8f",
   "metadata": {},
   "outputs": [
    {
     "data": {
      "image/png": "[encoded data removed]",
      "text/plain": [
       "<Figure size 640x480 with 1 Axes>"
      ]
     },
     "metadata": {},
     "output_type": "display_data"
    }
   ],
   "source": [
    "df.groupby(\"time\",observed=True)[\"Kişi Başı Hesap\"].mean().plot(kind=\"bar\",title=\"Zamana Göre Kişi Başı Ortalama Hesap\",ylabel=\"Hesap\",xlabel=\"Zaman\")\n",
    "plt.show()"
   ]
  },
  {
   "cell_type": "code",
   "execution_count": null,
   "id": "1ee4eff8-0173-4f97-ba4c-21132e3ecd36",
   "metadata": {},
   "outputs": [],
   "source": []
  },
  {
   "cell_type": "code",
   "execution_count": 54,
   "id": "68559c72-c1f2-434d-9359-b1f562f89048",
   "metadata": {},
   "outputs": [
    {
     "data": {
      "image/png": "[encoded data removed]",
      "text/plain": [
       "<Figure size 640x480 with 1 Axes>"
      ]
     },
     "metadata": {},
     "output_type": "display_data"
    }
   ],
   "source": [
    "df[\"Bahşiş Yüzdesi\"].plot(kind=\"hist\", bins=20,title=\"Bahşiş Yüzdesi Dağılımı\")\n",
    "plt.xlabel(\"Bahşiş %\")\n",
    "plt.ylabel(\"Her Aralıkta Kaç Müşteri\")\n",
    "plt.show()"
   ]
  },
  {
   "cell_type": "code",
   "execution_count": null,
   "id": "b5a16e40-8d55-485e-b21c-092d0af50aac",
   "metadata": {},
   "outputs": [],
   "source": []
  }
 ],
 "metadata": {
  "kernelspec": {
   "display_name": "Python 3 (ipykernel)",
   "language": "python",
   "name": "python3"
  },
  "language_info": {
   "codemirror_mode": {
    "name": "ipython",
    "version": 3
   },
   "file_extension": ".py",
   "mimetype": "text/x-python",
   "name": "python",
   "nbconvert_exporter": "python",
   "pygments_lexer": "ipython3",
   "version": "3.13.5"
  }
 },
 "nbformat": 4,
 "nbformat_minor": 5
}
